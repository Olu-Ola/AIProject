{
 "cells": [
  {
   "cell_type": "markdown",
   "metadata": {},
   "source": [
    "If you want the BAE attack to focus exclusively on word insertions (without any replacements), you can configure the WordSwapMaskedLM transformation to restrict it to only the insertion operation. Here's how you can do it in TextAttack:\n",
    "\n",
    "# Step-by-Step Configuration for Insertion-Only BAE\n",
    "Adjust the Transformation: The WordSwapMaskedLM transformation supports both replacements and insertions, but you can specify method=\"insert\" to enable insertions only."
   ]
  },
  {
   "cell_type": "code",
   "execution_count": null,
   "metadata": {},
   "outputs": [],
   "source": [
    "from textattack.transformations import WordSwapMaskedLM\n",
    "\n",
    "# Restrict to insertions only\n",
    "transformation = WordSwapMaskedLM(method=\"insert\", max_candidates=30)\n"
   ]
  },
  {
   "cell_type": "markdown",
   "metadata": {},
   "source": [
    "method=\"insert\" ensures that only word insertions are considered.\n",
    "max_candidates=30 limits the number of insertion suggestions per position.\n",
    "\n",
    "# 2.Set Up Constraints: \n",
    "Constraints are used to ensure that the insertions maintain the semantic and grammatical correctness of the sentence."
   ]
  },
  {
   "cell_type": "code",
   "execution_count": null,
   "metadata": {},
   "outputs": [],
   "source": [
    "from textattack.constraints.semantics import WordEmbeddingDistance\n",
    "from textattack.constraints.grammaticality import PartOfSpeech\n",
    "from textattack.constraints import MaxWordsPerturbed\n",
    "\n",
    "# Semantic similarity constraint to keep the meaning close\n",
    "semantic_constraint = WordEmbeddingDistance(min_cos_sim=0.8)\n",
    "\n",
    "# Grammatical constraint to ensure valid insertions\n",
    "grammatical_constraint = PartOfSpeech()\n",
    "\n",
    "# Limit the number of words inserted\n",
    "max_perturbation_constraint = MaxWordsPerturbed(max_percent=0.2)\n",
    "\n",
    "constraints = [semantic_constraint, grammatical_constraint, max_perturbation_constraint]\n"
   ]
  },
  {
   "cell_type": "markdown",
   "metadata": {},
   "source": [
    "# 3.Build the Attack: \n",
    "Combine the insertion-only transformation with the constraints and goal function to build the attack."
   ]
  },
  {
   "cell_type": "code",
   "execution_count": null,
   "metadata": {},
   "outputs": [],
   "source": [
    "from textattack.goal_functions import UntargetedClassification\n",
    "from textattack.models.wrappers import HuggingFaceModelWrapper\n",
    "from textattack.attack_recipes import Attack\n",
    "\n",
    "# Load the model\n",
    "model = HuggingFaceModelWrapper.from_pretrained(\"bert-base-uncased\")\n",
    "\n",
    "# Define the goal function\n",
    "goal_function = UntargetedClassification(model)\n",
    "\n",
    "# Build the attack\n",
    "attack = Attack(transformation, constraints, goal_function)\n"
   ]
  },
  {
   "cell_type": "markdown",
   "metadata": {},
   "source": [
    "# Test the Insertion-Only Attack: \n",
    "You can now run the insertion-only attack on a single sentence or an entire dataset.\n",
    "\n",
    "Attack on a Single Sentence:"
   ]
  },
  {
   "cell_type": "code",
   "execution_count": null,
   "metadata": {},
   "outputs": [],
   "source": [
    "# Test the attack on a single sentence\n",
    "input_sentence = [(\"This is an amazing movie!\", 1)]  # (sentence, label)\n",
    "results = attack.attack_dataset(input_sentence)\n",
    "\n",
    "# Print results\n",
    "for result in results:\n",
    "    print(result)\n"
   ]
  },
  {
   "cell_type": "markdown",
   "metadata": {},
   "source": [
    "Attack on a Dataset:"
   ]
  },
  {
   "cell_type": "code",
   "execution_count": null,
   "metadata": {},
   "outputs": [],
   "source": [
    "from textattack.datasets import HuggingFaceDataset\n",
    "\n",
    "# Load the IMDB dataset\n",
    "dataset = HuggingFaceDataset(\"imdb\", split=\"test\")\n",
    "\n",
    "# Run the attack\n",
    "attack_results = attack.attack_dataset(dataset)\n",
    "\n",
    "# Print the first 5 results\n",
    "for i, result in enumerate(attack_results):\n",
    "    if i > 5: break\n",
    "    print(result)\n"
   ]
  },
  {
   "cell_type": "markdown",
   "metadata": {},
   "source": [
    "Key Differences for Insertion-Only BAE\n",
    "Transformation: Set method=\"insert\" in WordSwapMaskedLM.\n",
    "Constraints: The same constraints for semantic similarity, grammaticality, and word perturbation limits apply, ensuring meaningful and valid insertions.\n",
    "No Replacements: No words are replaced; new words are inserted between the existing ones.\n",
    "\n",
    "Customization Options for Insertion\n",
    "Insertions at Specific Positions: Customize the insertion logic to target specific positions (e.g., after nouns or verbs).\n",
    "Increase Semantic Diversity: Adjust the min_cos_sim in the WordEmbeddingDistance constraint to allow more diverse insertions."
   ]
  }
 ],
 "metadata": {
  "language_info": {
   "name": "python"
  }
 },
 "nbformat": 4,
 "nbformat_minor": 2
}
