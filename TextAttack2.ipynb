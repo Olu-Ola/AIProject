{
 "cells": [
  {
   "cell_type": "markdown",
   "metadata": {},
   "source": [
    "# 1. Candidate Word Generation\n",
    "## Objective: \n",
    "Identify candidate words for substitution or insertion that do not drastically change the sentence's meaning.\n",
    "## Implementation:\n",
    "Uses a masked language model (e.g., BERT) to predict possible replacements or insertions for each word.\n",
    "\n",
    "### For substitution, \n",
    "each word in the sentence is masked one at a time, and BERT predicts the top-k tokens for that position.\n",
    "### For insertion, \n",
    "additional tokens are proposed by masking at various positions between existing words.\n",
    "\n",
    "## Code Component:"
   ]
  },
  {
   "cell_type": "code",
   "execution_count": null,
   "metadata": {},
   "outputs": [],
   "source": [
    "from textattack.transformations import WordSwapMaskedLM\n",
    "transformation = WordSwapMaskedLM(method=\"bae\", max_candidates=50)\n",
    "\n",
    "# This uses BERT's predictions to generate up to 50 candidate replacements or insertions."
   ]
  },
  {
   "cell_type": "markdown",
   "metadata": {},
   "source": [
    "# 2. Scoring and Ranking\n",
    "## Objective: \n",
    "Rank the candidate words by their potential to cause a model misclassification while maintaining semantic similarity.\n",
    "## Implementation:\n",
    "Each candidate is scored using the model's confidence on the adversarial target.\n",
    "Candidates are also checked for semantic similarity using constraints like cosine similarity in embedding space.\n",
    "## Code Component:"
   ]
  },
  {
   "cell_type": "code",
   "execution_count": null,
   "metadata": {},
   "outputs": [],
   "source": [
    "from textattack.constraints.semantics import WordEmbeddingDistance\n",
    "constraints = [WordEmbeddingDistance(min_cos_sim=0.8)]\n",
    "# This ensures that candidates are semantically close to the original word."
   ]
  },
  {
   "cell_type": "markdown",
   "metadata": {},
   "source": [
    "# 3. Word Substitution or Insertion\n",
    "## Objective: \n",
    "Modify the input sentence based on the ranked list of candidates.\n",
    "## Implementation:\n",
    "For substitution, the highest-ranked replacement is applied to the original word.\n",
    "\n",
    "For insertion, the highest-ranked token is inserted at the identified position.\n",
    "\n",
    "The process continues iteratively until the attack succeeds or a limit on changes is reached.\n",
    "## Code Component: \n",
    "The transformation (e.g., substitution or insertion) is applied iteratively:"
   ]
  },
  {
   "cell_type": "code",
   "execution_count": null,
   "metadata": {},
   "outputs": [],
   "source": [
    "from textattack.constraints import MaxWordsPerturbed\n",
    "max_changes = MaxWordsPerturbed(max_percent=0.2)  # Limit to 20% changes"
   ]
  },
  {
   "cell_type": "markdown",
   "metadata": {},
   "source": [
    "# 4. Adversarial Verification\n",
    "## Objective: \n",
    "Verify that the modified sentence successfully fools the target model.\n",
    "## Implementation:\n",
    "The adversarial example is tested against the model to confirm misclassification.\n",
    "\n",
    "If the attack is successful, the example is returned as an adversarial instance.\n",
    "\n",
    "If not, the process continues with the next ranked candidate or phase.\n",
    "## Code Component: \n",
    "This is handled by the attack's goal function, which specifies the conditions for success:"
   ]
  },
  {
   "cell_type": "code",
   "execution_count": null,
   "metadata": {},
   "outputs": [],
   "source": [
    "from textattack.goal_functions import UntargetedClassification\n",
    "goal_function = UntargetedClassification(model)"
   ]
  },
  {
   "cell_type": "markdown",
   "metadata": {},
   "source": [
    "# Integration in TextAttack\n",
    "\n",
    "In TextAttack, these phases are combined and executed automatically in the BAEGarg2019 recipe:"
   ]
  },
  {
   "cell_type": "code",
   "execution_count": null,
   "metadata": {},
   "outputs": [],
   "source": [
    "from textattack.attack_recipes import BAEGarg2019\n",
    "from textattack.models.wrappers import HuggingFaceModelWrapper\n",
    "\n",
    "# Load a model and build the BAE attack recipe\n",
    "model = HuggingFaceModelWrapper.from_pretrained(\"bert-base-uncased\")\n",
    "attack = BAEGarg2019.build(model)\n",
    "\n",
    "# Attack sample sentences\n",
    "results = attack.attack_dataset([(\"This is a sample sentence.\", 0)])"
   ]
  }
 ],
 "metadata": {
  "language_info": {
   "name": "python"
  }
 },
 "nbformat": 4,
 "nbformat_minor": 2
}
