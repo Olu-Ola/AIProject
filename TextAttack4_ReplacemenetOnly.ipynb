{
 "cells": [
  {
   "cell_type": "markdown",
   "metadata": {},
   "source": [
    "If you want the BAE attack to focus exclusively on word replacements (without any insertions), you can modify the WordSwapMaskedLM transformation to restrict it to only the replacement operation.\n",
    "\n",
    "Here’s how you can configure this in TextAttack:\n",
    "\n",
    "# Step-by-Step Configuration for Replacement-Only BAE\n",
    "## Adjust the Transformation: \n",
    "By default, WordSwapMaskedLM supports both replacement and insertion operations. You can specify the method=\"replace\" parameter to restrict it to replacements only."
   ]
  },
  {
   "cell_type": "code",
   "execution_count": null,
   "metadata": {},
   "outputs": [],
   "source": [
    "from textattack.transformations import WordSwapMaskedLM\n",
    "\n",
    "# Restrict to replacements only\n",
    "transformation = WordSwapMaskedLM(method=\"replace\", max_candidates=30)\n"
   ]
  },
  {
   "cell_type": "markdown",
   "metadata": {},
   "source": [
    "method=\"replace\" ensures only word substitutions are considered.\n",
    "max_candidates=30 limits the number of replacement suggestions per word."
   ]
  },
  {
   "cell_type": "code",
   "execution_count": null,
   "metadata": {},
   "outputs": [],
   "source": [
    "Maintain Constraints: The constraints are unchanged. You can use constraints like semantic similarity or part-of-speech consistency to ensure meaningful replacements."
   ]
  },
  {
   "cell_type": "code",
   "execution_count": null,
   "metadata": {},
   "outputs": [],
   "source": [
    "from textattack.constraints.semantics import WordEmbeddingDistance\n",
    "from textattack.constraints.grammaticality import PartOfSpeech\n",
    "from textattack.constraints import MaxWordsPerturbed\n",
    "\n",
    "# Ensure semantic similarity\n",
    "semantic_constraint = WordEmbeddingDistance(min_cos_sim=0.8)\n",
    "\n",
    "# Ensure part-of-speech consistency\n",
    "grammatical_constraint = PartOfSpeech()\n",
    "\n",
    "# Limit to perturbing 20% of the words\n",
    "max_perturbation_constraint = MaxWordsPerturbed(max_percent=0.2)\n",
    "\n",
    "constraints = [semantic_constraint, grammatical_constraint, max_perturbation_constraint]\n"
   ]
  },
  {
   "cell_type": "markdown",
   "metadata": {},
   "source": [
    "Build the Attack: Combine the transformation (replacement-only) with the constraints and goal function to create the attack."
   ]
  },
  {
   "cell_type": "code",
   "execution_count": null,
   "metadata": {},
   "outputs": [],
   "source": [
    "from textattack.goal_functions import UntargetedClassification\n",
    "from textattack.models.wrappers import HuggingFaceModelWrapper\n",
    "from textattack.attack_recipes import Attack\n",
    "\n",
    "# Load the model\n",
    "model = HuggingFaceModelWrapper.from_pretrained(\"bert-base-uncased\")\n",
    "\n",
    "# Define the goal function\n",
    "goal_function = UntargetedClassification(model)\n",
    "\n",
    "# Build the attack\n",
    "attack = Attack(transformation, constraints, goal_function)\n"
   ]
  },
  {
   "cell_type": "markdown",
   "metadata": {},
   "source": [
    "Test the Attack: You can now run the replacement-only attack on a sentence or dataset.\n",
    "\n",
    "python\n",
    "Copy code\n"
   ]
  },
  {
   "cell_type": "code",
   "execution_count": null,
   "metadata": {},
   "outputs": [],
   "source": [
    "# Test on a single sentence\n",
    "input_sentence = [(\"This is a fantastic movie!\", 1)]  # (sentence, label)\n",
    "results = attack.attack_dataset(input_sentence)\n",
    "\n",
    "# Print results\n",
    "for result in results:\n",
    "    print(result)\n"
   ]
  },
  {
   "cell_type": "markdown",
   "metadata": {},
   "source": [
    "Or attack an entire dataset:"
   ]
  },
  {
   "cell_type": "code",
   "execution_count": null,
   "metadata": {},
   "outputs": [],
   "source": [
    "from textattack.datasets import HuggingFaceDataset\n",
    "\n",
    "# Load the IMDB test dataset\n",
    "dataset = HuggingFaceDataset(\"imdb\", split=\"test\")\n",
    "\n",
    "# Run the attack\n",
    "attack_results = attack.attack_dataset(dataset)\n",
    "\n",
    "# Print first 5 results\n",
    "for i, result in enumerate(attack_results):\n",
    "    if i > 5: break\n",
    "    print(result)\n"
   ]
  },
  {
   "cell_type": "markdown",
   "metadata": {},
   "source": [
    "Key Changes for Replacement-Only\n",
    "The transformation is set to method=\"replace\" in WordSwapMaskedLM.\n",
    "No other changes are needed, as constraints like grammaticality, semantic similarity, and perturbation limits apply equally well to replacements."
   ]
  }
 ],
 "metadata": {
  "language_info": {
   "name": "python"
  }
 },
 "nbformat": 4,
 "nbformat_minor": 2
}
